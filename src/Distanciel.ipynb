{
 "cells": [
  {
   "cell_type": "code",
   "execution_count": 2,
   "id": "directed-demand",
   "metadata": {},
   "outputs": [],
   "source": [
    "#Les importations\n",
    "import numpy as np\n",
    "import random\n",
    "import matplotlib.pyplot as plt"
   ]
  },
  {
   "cell_type": "code",
   "execution_count": 3,
   "id": "biblical-serum",
   "metadata": {},
   "outputs": [
    {
     "name": "stderr",
     "output_type": "stream",
     "text": [
      "<ipython-input-3-a97763f6ec7b>:11: UserWarning: Matplotlib is currently using agg, which is a non-GUI backend, so cannot show the figure.\n",
      "  plt.show()\n"
     ]
    }
   ],
   "source": [
    "#Un bout de code pour représenter graphiquement une gaussienne : pas utile\n",
    "mu = 0\n",
    "sigma=1\n",
    "nums=[]\n",
    "for i in range(10000):  \n",
    "    temp = random.gauss(mu, sigma)  \n",
    "    nums.append(temp)  \n",
    "        \n",
    "# plotting a graph  \n",
    "plt.hist(nums, bins = 200)  \n",
    "plt.show() "
   ]
  },
  {
   "cell_type": "code",
   "execution_count": 4,
   "id": "ready-surname",
   "metadata": {},
   "outputs": [
    {
     "name": "stdout",
     "output_type": "stream",
     "text": [
      "4.352604576385351 3.841968322485223 0.012467210611551831\n",
      "4.122426233875089 8.584544846554655 0.45486697119187786\n",
      "7.004612996858683 2.334416485959717 0.5326658181965704\n"
     ]
    }
   ],
   "source": [
    "#La génération des paramètres du générateur de pommes\n",
    "ptot=0 #le dénominateur, somme des 3 probabilités\n",
    "mu=[0,0,0] #les 3 moyennes, entre 0 et 10\n",
    "sigma=[0,0,0] #les 3 écarts types entre 0 et 10\n",
    "p=[0,0,0] #la probabilité de chaque arbre\n",
    "for i in range(3):\n",
    "  mu[i]=random.random()*10\n",
    "  sigma[i]=random.random()*10\n",
    "  p[i]=random.random()\n",
    "  ptot+=p[i]\n",
    "for i in range(3):\n",
    "  p[i]=p[i]/ptot\n",
    "for i in range(3):\n",
    "  print(mu[i],sigma[i],p[i])"
   ]
  },
  {
   "cell_type": "code",
   "execution_count": 5,
   "id": "competitive-lobby",
   "metadata": {},
   "outputs": [
    {
     "name": "stderr",
     "output_type": "stream",
     "text": [
      "<ipython-input-5-cb69fe292cab>:18: UserWarning: Matplotlib is currently using agg, which is a non-GUI backend, so cannot show the figure.\n",
      "  plt.show()\n"
     ]
    }
   ],
   "source": [
    "#Le générateur de pommes\n",
    "def generepomme(mu,sigma,p):\n",
    "  r=random.random()\n",
    "  if r<p[0]:\n",
    "    arbre=0\n",
    "  elif r<p[0]+p[1]:\n",
    "    arbre=1\n",
    "  else: arbre=2 #on a sélectionné l'arbre\n",
    "  pos=random.gauss(mu[arbre], sigma[arbre]) #on applique l'arbre\n",
    "  #print(arbre,pos)\n",
    "  return pos\n",
    "#On teste\n",
    "nums=[]\n",
    "for i in range(1000):\n",
    "  x=generepomme(mu,sigma,p)\n",
    "  nums.append(x)\n",
    "plt.hist(nums, bins = 200)  \n",
    "plt.show() "
   ]
  },
  {
   "cell_type": "code",
   "execution_count": null,
   "id": "driven-aruba",
   "metadata": {},
   "outputs": [],
   "source": [
    "nums"
   ]
  },
  {
   "cell_type": "code",
   "execution_count": 6,
   "id": "individual-coffee",
   "metadata": {},
   "outputs": [],
   "source": [
    "def baseline(tirages,nbtests):\n",
    "  return(random.random()*5,5+random.random()*5)\n",
    "  #cet algorithme est stupide et fonctionne assez mal! Dans ce cas il n'y a pas de paramètre mais on peut utiliser en particulier l'historique des pommes précédentes !"
   ]
  },
  {
   "cell_type": "code",
   "execution_count": 9,
   "id": "sunset-dining",
   "metadata": {},
   "outputs": [],
   "source": [
    "def dernier_vu(tirages,nb_tests):#une heuristique: mettre le panier là où la dernière pomme est tombée\n",
    "  if nb_tests>1:\n",
    "    x=tirages[nb_tests-1]\n",
    "    y=tirages[nb_tests-2]\n",
    "  elif nb_tests>0:\n",
    "    x=tirages[nb_tests-1]\n",
    "    y=0.3\n",
    "  else:\n",
    "    x=0.7\n",
    "    y=0.3\n",
    "  return(x,y)"
   ]
  },
  {
   "cell_type": "code",
   "execution_count": 10,
   "id": "attended-increase",
   "metadata": {},
   "outputs": [
    {
     "name": "stdout",
     "output_type": "stream",
     "text": [
      "Nombre de pommes ramassées, sur 100 tombées : 11.833333333333334\n"
     ]
    }
   ],
   "source": [
    "#Protocole de test de la solution\n",
    "nb_tests=0\n",
    "nb_corrects=0\n",
    "tirages=[]\n",
    "for i in range(3600):\n",
    "  #x,y=baseline(tirages,nb_tests)#ici remplacer baseline par le nom de la fonction à tester\n",
    "  x,y=dernier_vu(tirages,nb_tests)\n",
    "  z=generepomme(mu,sigma,p)\n",
    "  #print('x',x,'y',y,'z',z, nb_corrects,nb_tests)\n",
    "  tirages.append(z)\n",
    "  if abs(x-z)<0.5 or abs(y-z)<0.5: #diamètre du seau=1, donc rayon=0.5\n",
    "    nb_corrects+=1\n",
    "  nb_tests+=1\n",
    "print('Nombre de pommes ramassées, sur 100 tombées :',100*nb_corrects/nb_tests)\n",
    "  "
   ]
  }
 ],
 "metadata": {
  "kernelspec": {
   "display_name": "Python 3",
   "language": "python",
   "name": "python3"
  },
  "language_info": {
   "codemirror_mode": {
    "name": "ipython",
    "version": 3
   },
   "file_extension": ".py",
   "mimetype": "text/x-python",
   "name": "python",
   "nbconvert_exporter": "python",
   "pygments_lexer": "ipython3",
   "version": "3.8.5"
  }
 },
 "nbformat": 4,
 "nbformat_minor": 5
}
